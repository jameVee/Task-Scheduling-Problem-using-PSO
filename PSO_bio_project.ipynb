{
  "nbformat": 4,
  "nbformat_minor": 0,
  "metadata": {
    "colab": {
      "provenance": [],
      "include_colab_link": true
    },
    "kernelspec": {
      "name": "python3",
      "display_name": "Python 3"
    },
    "language_info": {
      "name": "python"
    }
  },
  "cells": [
    {
      "cell_type": "markdown",
      "metadata": {
        "id": "view-in-github",
        "colab_type": "text"
      },
      "source": [
        "<a href=\"https://colab.research.google.com/github/jameVee/Task-Scheduling-Problem-using-PSO/blob/main/PSO_bio_project.ipynb\" target=\"_parent\"><img src=\"https://colab.research.google.com/assets/colab-badge.svg\" alt=\"Open In Colab\"/></a>"
      ]
    },
    {
      "cell_type": "markdown",
      "source": [
        "**Task Scheduling Problem using PSO**\n",
        "\n",
        "ปัญหาการจัดตารางการผลิตแบบไหลยืดหยุ่นโดยมีวัตถูประสงค์เพื่อให้เวลางานล่าช้ารวมน้อยที่สุด\n",
        "\n",
        "อ้างอิง : \n",
        "http://www.dms.eng.su.ac.th/filebox/FileData/POM019.pdf"
      ],
      "metadata": {
        "id": "XU2-OokDuwcb"
      }
    },
    {
      "cell_type": "code",
      "execution_count": null,
      "metadata": {
        "id": "um5E0SpesEgw",
        "colab": {
          "base_uri": "https://localhost:8080/"
        },
        "outputId": "d5fd3c3d-ec6f-47f0-e24e-108aa62e2c8c"
      },
      "outputs": [
        {
          "output_type": "stream",
          "name": "stdout",
          "text": [
            "Drive already mounted at /content/drive; to attempt to forcibly remount, call drive.mount(\"/content/drive\", force_remount=True).\n"
          ]
        }
      ],
      "source": [
        "import numpy as np\n",
        "import matplotlib.pyplot as plt\n",
        "import pandas as pd\n",
        "import random as rd\n",
        "from google.colab import drive\n",
        "drive.mount('/content/drive')"
      ]
    },
    {
      "cell_type": "code",
      "source": [
        "nPartical = 7 # จำนวนpartical \n",
        "nProblem = 20 # จำนวนงาน\n",
        "iteration = 20 # จำนวนรอบในการบิน\n",
        "w = 0.4\n",
        "n1 = 0.3\n",
        "n2 = 0.3\n",
        "num_machine = 3\n",
        "data = pd.read_excel('/content/drive/MyDrive/PSO_bio_project/task_scheduling_PSO.xlsx',sheet_name='Sheet1')"
      ],
      "metadata": {
        "id": "r6Fy8nSeMsuH"
      },
      "execution_count": null,
      "outputs": []
    },
    {
      "cell_type": "markdown",
      "source": [
        "กำหนดให้ 1 สถานีมี 1 เครื่องจักร"
      ],
      "metadata": {
        "id": "QJnGhWii_w4j"
      }
    },
    {
      "cell_type": "code",
      "source": [
        "data  "
      ],
      "metadata": {
        "colab": {
          "base_uri": "https://localhost:8080/",
          "height": 677
        },
        "id": "_AJWSH8n-dRB",
        "outputId": "bdef91d9-288f-4926-c2bd-20f5423f0427"
      },
      "execution_count": null,
      "outputs": [
        {
          "output_type": "execute_result",
          "data": {
            "text/plain": [
              "    งาน\\สถานี   1   2   3  due_date\n",
              "0           1   4  10   4         9\n",
              "1           2   1   1  10         5\n",
              "2           3   1   1   8         4\n",
              "3           4   2   3   8         8\n",
              "4           5   9   2   3         7\n",
              "5           6   9   9   2         5\n",
              "6           7   4   6   8        10\n",
              "7           8   3   4   5         7\n",
              "8           9   5   2   3         8\n",
              "9          10   8   8   9         3\n",
              "10         11   3   9   7         5\n",
              "11         12   3   9   8        10\n",
              "12         13  10   2   6         7\n",
              "13         14   3   3  10         8\n",
              "14         15   1   4   7         9\n",
              "15         16   4   5   3         3\n",
              "16         17   5   8   7         4\n",
              "17         18  10   9   3         7\n",
              "18         19   1   2   2         3\n",
              "19         20   5   8   1         4"
            ],
            "text/html": [
              "\n",
              "  <div id=\"df-f5fac32e-a3f5-4577-aa43-34356ea50e6d\">\n",
              "    <div class=\"colab-df-container\">\n",
              "      <div>\n",
              "<style scoped>\n",
              "    .dataframe tbody tr th:only-of-type {\n",
              "        vertical-align: middle;\n",
              "    }\n",
              "\n",
              "    .dataframe tbody tr th {\n",
              "        vertical-align: top;\n",
              "    }\n",
              "\n",
              "    .dataframe thead th {\n",
              "        text-align: right;\n",
              "    }\n",
              "</style>\n",
              "<table border=\"1\" class=\"dataframe\">\n",
              "  <thead>\n",
              "    <tr style=\"text-align: right;\">\n",
              "      <th></th>\n",
              "      <th>งาน\\สถานี</th>\n",
              "      <th>1</th>\n",
              "      <th>2</th>\n",
              "      <th>3</th>\n",
              "      <th>due_date</th>\n",
              "    </tr>\n",
              "  </thead>\n",
              "  <tbody>\n",
              "    <tr>\n",
              "      <th>0</th>\n",
              "      <td>1</td>\n",
              "      <td>4</td>\n",
              "      <td>10</td>\n",
              "      <td>4</td>\n",
              "      <td>9</td>\n",
              "    </tr>\n",
              "    <tr>\n",
              "      <th>1</th>\n",
              "      <td>2</td>\n",
              "      <td>1</td>\n",
              "      <td>1</td>\n",
              "      <td>10</td>\n",
              "      <td>5</td>\n",
              "    </tr>\n",
              "    <tr>\n",
              "      <th>2</th>\n",
              "      <td>3</td>\n",
              "      <td>1</td>\n",
              "      <td>1</td>\n",
              "      <td>8</td>\n",
              "      <td>4</td>\n",
              "    </tr>\n",
              "    <tr>\n",
              "      <th>3</th>\n",
              "      <td>4</td>\n",
              "      <td>2</td>\n",
              "      <td>3</td>\n",
              "      <td>8</td>\n",
              "      <td>8</td>\n",
              "    </tr>\n",
              "    <tr>\n",
              "      <th>4</th>\n",
              "      <td>5</td>\n",
              "      <td>9</td>\n",
              "      <td>2</td>\n",
              "      <td>3</td>\n",
              "      <td>7</td>\n",
              "    </tr>\n",
              "    <tr>\n",
              "      <th>5</th>\n",
              "      <td>6</td>\n",
              "      <td>9</td>\n",
              "      <td>9</td>\n",
              "      <td>2</td>\n",
              "      <td>5</td>\n",
              "    </tr>\n",
              "    <tr>\n",
              "      <th>6</th>\n",
              "      <td>7</td>\n",
              "      <td>4</td>\n",
              "      <td>6</td>\n",
              "      <td>8</td>\n",
              "      <td>10</td>\n",
              "    </tr>\n",
              "    <tr>\n",
              "      <th>7</th>\n",
              "      <td>8</td>\n",
              "      <td>3</td>\n",
              "      <td>4</td>\n",
              "      <td>5</td>\n",
              "      <td>7</td>\n",
              "    </tr>\n",
              "    <tr>\n",
              "      <th>8</th>\n",
              "      <td>9</td>\n",
              "      <td>5</td>\n",
              "      <td>2</td>\n",
              "      <td>3</td>\n",
              "      <td>8</td>\n",
              "    </tr>\n",
              "    <tr>\n",
              "      <th>9</th>\n",
              "      <td>10</td>\n",
              "      <td>8</td>\n",
              "      <td>8</td>\n",
              "      <td>9</td>\n",
              "      <td>3</td>\n",
              "    </tr>\n",
              "    <tr>\n",
              "      <th>10</th>\n",
              "      <td>11</td>\n",
              "      <td>3</td>\n",
              "      <td>9</td>\n",
              "      <td>7</td>\n",
              "      <td>5</td>\n",
              "    </tr>\n",
              "    <tr>\n",
              "      <th>11</th>\n",
              "      <td>12</td>\n",
              "      <td>3</td>\n",
              "      <td>9</td>\n",
              "      <td>8</td>\n",
              "      <td>10</td>\n",
              "    </tr>\n",
              "    <tr>\n",
              "      <th>12</th>\n",
              "      <td>13</td>\n",
              "      <td>10</td>\n",
              "      <td>2</td>\n",
              "      <td>6</td>\n",
              "      <td>7</td>\n",
              "    </tr>\n",
              "    <tr>\n",
              "      <th>13</th>\n",
              "      <td>14</td>\n",
              "      <td>3</td>\n",
              "      <td>3</td>\n",
              "      <td>10</td>\n",
              "      <td>8</td>\n",
              "    </tr>\n",
              "    <tr>\n",
              "      <th>14</th>\n",
              "      <td>15</td>\n",
              "      <td>1</td>\n",
              "      <td>4</td>\n",
              "      <td>7</td>\n",
              "      <td>9</td>\n",
              "    </tr>\n",
              "    <tr>\n",
              "      <th>15</th>\n",
              "      <td>16</td>\n",
              "      <td>4</td>\n",
              "      <td>5</td>\n",
              "      <td>3</td>\n",
              "      <td>3</td>\n",
              "    </tr>\n",
              "    <tr>\n",
              "      <th>16</th>\n",
              "      <td>17</td>\n",
              "      <td>5</td>\n",
              "      <td>8</td>\n",
              "      <td>7</td>\n",
              "      <td>4</td>\n",
              "    </tr>\n",
              "    <tr>\n",
              "      <th>17</th>\n",
              "      <td>18</td>\n",
              "      <td>10</td>\n",
              "      <td>9</td>\n",
              "      <td>3</td>\n",
              "      <td>7</td>\n",
              "    </tr>\n",
              "    <tr>\n",
              "      <th>18</th>\n",
              "      <td>19</td>\n",
              "      <td>1</td>\n",
              "      <td>2</td>\n",
              "      <td>2</td>\n",
              "      <td>3</td>\n",
              "    </tr>\n",
              "    <tr>\n",
              "      <th>19</th>\n",
              "      <td>20</td>\n",
              "      <td>5</td>\n",
              "      <td>8</td>\n",
              "      <td>1</td>\n",
              "      <td>4</td>\n",
              "    </tr>\n",
              "  </tbody>\n",
              "</table>\n",
              "</div>\n",
              "      <button class=\"colab-df-convert\" onclick=\"convertToInteractive('df-f5fac32e-a3f5-4577-aa43-34356ea50e6d')\"\n",
              "              title=\"Convert this dataframe to an interactive table.\"\n",
              "              style=\"display:none;\">\n",
              "        \n",
              "  <svg xmlns=\"http://www.w3.org/2000/svg\" height=\"24px\"viewBox=\"0 0 24 24\"\n",
              "       width=\"24px\">\n",
              "    <path d=\"M0 0h24v24H0V0z\" fill=\"none\"/>\n",
              "    <path d=\"M18.56 5.44l.94 2.06.94-2.06 2.06-.94-2.06-.94-.94-2.06-.94 2.06-2.06.94zm-11 1L8.5 8.5l.94-2.06 2.06-.94-2.06-.94L8.5 2.5l-.94 2.06-2.06.94zm10 10l.94 2.06.94-2.06 2.06-.94-2.06-.94-.94-2.06-.94 2.06-2.06.94z\"/><path d=\"M17.41 7.96l-1.37-1.37c-.4-.4-.92-.59-1.43-.59-.52 0-1.04.2-1.43.59L10.3 9.45l-7.72 7.72c-.78.78-.78 2.05 0 2.83L4 21.41c.39.39.9.59 1.41.59.51 0 1.02-.2 1.41-.59l7.78-7.78 2.81-2.81c.8-.78.8-2.07 0-2.86zM5.41 20L4 18.59l7.72-7.72 1.47 1.35L5.41 20z\"/>\n",
              "  </svg>\n",
              "      </button>\n",
              "      \n",
              "  <style>\n",
              "    .colab-df-container {\n",
              "      display:flex;\n",
              "      flex-wrap:wrap;\n",
              "      gap: 12px;\n",
              "    }\n",
              "\n",
              "    .colab-df-convert {\n",
              "      background-color: #E8F0FE;\n",
              "      border: none;\n",
              "      border-radius: 50%;\n",
              "      cursor: pointer;\n",
              "      display: none;\n",
              "      fill: #1967D2;\n",
              "      height: 32px;\n",
              "      padding: 0 0 0 0;\n",
              "      width: 32px;\n",
              "    }\n",
              "\n",
              "    .colab-df-convert:hover {\n",
              "      background-color: #E2EBFA;\n",
              "      box-shadow: 0px 1px 2px rgba(60, 64, 67, 0.3), 0px 1px 3px 1px rgba(60, 64, 67, 0.15);\n",
              "      fill: #174EA6;\n",
              "    }\n",
              "\n",
              "    [theme=dark] .colab-df-convert {\n",
              "      background-color: #3B4455;\n",
              "      fill: #D2E3FC;\n",
              "    }\n",
              "\n",
              "    [theme=dark] .colab-df-convert:hover {\n",
              "      background-color: #434B5C;\n",
              "      box-shadow: 0px 1px 3px 1px rgba(0, 0, 0, 0.15);\n",
              "      filter: drop-shadow(0px 1px 2px rgba(0, 0, 0, 0.3));\n",
              "      fill: #FFFFFF;\n",
              "    }\n",
              "  </style>\n",
              "\n",
              "      <script>\n",
              "        const buttonEl =\n",
              "          document.querySelector('#df-f5fac32e-a3f5-4577-aa43-34356ea50e6d button.colab-df-convert');\n",
              "        buttonEl.style.display =\n",
              "          google.colab.kernel.accessAllowed ? 'block' : 'none';\n",
              "\n",
              "        async function convertToInteractive(key) {\n",
              "          const element = document.querySelector('#df-f5fac32e-a3f5-4577-aa43-34356ea50e6d');\n",
              "          const dataTable =\n",
              "            await google.colab.kernel.invokeFunction('convertToInteractive',\n",
              "                                                     [key], {});\n",
              "          if (!dataTable) return;\n",
              "\n",
              "          const docLinkHtml = 'Like what you see? Visit the ' +\n",
              "            '<a target=\"_blank\" href=https://colab.research.google.com/notebooks/data_table.ipynb>data table notebook</a>'\n",
              "            + ' to learn more about interactive tables.';\n",
              "          element.innerHTML = '';\n",
              "          dataTable['output_type'] = 'display_data';\n",
              "          await google.colab.output.renderOutput(dataTable, element);\n",
              "          const docLink = document.createElement('div');\n",
              "          docLink.innerHTML = docLinkHtml;\n",
              "          element.appendChild(docLink);\n",
              "        }\n",
              "      </script>\n",
              "    </div>\n",
              "  </div>\n",
              "  "
            ]
          },
          "metadata": {},
          "execution_count": 97
        }
      ]
    },
    {
      "cell_type": "markdown",
      "source": [
        "D คือ Due date vector\n",
        "สร้างได้โดยใช้ due_date ของแต่ละงาน"
      ],
      "metadata": {
        "id": "oaw_vCDeT4ag"
      }
    },
    {
      "cell_type": "code",
      "source": [
        "range_duedate = int( (max(data.due_date) - min(data.due_date)) / 3 )\n",
        "D = np.zeros(nProblem)\n",
        "min_duedate = int(min(data.due_date))\n",
        "max_duedate = int(max(data.due_date))\n",
        "for g in range(nProblem):\n",
        "  if min_duedate <= data.due_date[g]<= (min_duedate + range_duedate) :\n",
        "    D[g] = 2000\n",
        "  elif  (min_duedate + range_duedate) <= data.due_date[g] <= (max_duedate-range_duedate):\n",
        "    D[g] = 1000\n",
        "  else:\n",
        "    D[g] = 0\n",
        "D"
      ],
      "metadata": {
        "colab": {
          "base_uri": "https://localhost:8080/"
        },
        "id": "jl3AcXqYXnTa",
        "outputId": "98c8f70a-2d4d-432f-f0e2-fd81d8a8c95d"
      },
      "execution_count": null,
      "outputs": [
        {
          "output_type": "execute_result",
          "data": {
            "text/plain": [
              "array([   0., 2000., 2000., 1000., 1000., 2000.,    0., 1000., 1000.,\n",
              "       2000., 2000.,    0., 1000., 1000.,    0., 2000., 2000., 1000.,\n",
              "       2000., 2000.])"
            ]
          },
          "metadata": {},
          "execution_count": 98
        }
      ]
    },
    {
      "cell_type": "markdown",
      "source": [
        "กำหนดค่าตัวแปรต่างๆ"
      ],
      "metadata": {
        "id": "1Yo5-gymUJL4"
      }
    },
    {
      "cell_type": "code",
      "source": [
        "# initial\n",
        "x = np.random.randint(1,100,nProblem*nPartical).reshape(nPartical,nProblem) #ตำแหน่ง\n",
        "v = np.random.randint(1,50,nProblem*nPartical).reshape(nPartical,nProblem) #ตวามเร็ว\n",
        "z = x.copy()\n",
        "PBest = np.zeros(nProblem*nPartical).reshape(nPartical,nProblem)\n",
        "GBest = np.zeros(nProblem)\n",
        "Obj = np.full((nPartical,), 9999999.0) #objective of partical\n",
        "ObjPBest = np.full((nPartical,), 9999999.0)\n",
        "ObjGBest = 9999999.0\n",
        "print('x : \\n',x)\n",
        "print('v : \\n',v)"
      ],
      "metadata": {
        "colab": {
          "base_uri": "https://localhost:8080/"
        },
        "id": "bI9WFWWL9e8j",
        "outputId": "c60fce3b-3585-41d2-8941-48772dbe80ce"
      },
      "execution_count": null,
      "outputs": [
        {
          "output_type": "stream",
          "name": "stdout",
          "text": [
            "x : \n",
            " [[97 57 65  9 61 18 67 13 17 20 63 15 96 88 65  9  4 66 97 19]\n",
            " [67 51 93 30 10 11 26 38 24 93 71 91 48 62 38 70 19  9 49 40]\n",
            " [ 7  5 62 41 37 68 51 73 94 96 41 82 52 69 37 37 33 95 63 87]\n",
            " [ 3 77 49 46 29 45  8 55 95 46 75 28  4 45 64 82 63 12 37 56]\n",
            " [94 30 31 61  9 64 83  4 99 19 43 45 77 62 74 51 10 39 80 62]\n",
            " [38 16 50 14 84 92 91  3 62 87 30 34 12  4 24 68 87 39 57 92]\n",
            " [69 40 91 95 68 31 39  1 75 45 59 56 57 87 14 44 92 89  4 57]]\n",
            "v : \n",
            " [[41 16 17 24 46 23 23  7  5 14 37  2 37 47 20  4 11 46 46 15]\n",
            " [15 34 37 25 42 40 47 29 33 48 37 18 14 17 12 34 37 25 22 29]\n",
            " [15  6 42 41 29 39 37 15 43  2 32  1  6 12 42 49  5  2 27 26]\n",
            " [19 15 36 41 39 41 49  1 30 14 43 36  6 34 32 29 32 49 30 32]\n",
            " [32 16 13 45 25 23  4 47  8  8 12 40 44 31 23 43 30  3 26 39]\n",
            " [25 24 21 35 36 17 40 28 40 21 31 23 17 38 23 48  1 28  9 31]\n",
            " [33 34 18 44 19 22 36 41 13 40 42 28 41 38 24 30  9 15 27  2]]\n"
          ]
        }
      ]
    },
    {
      "cell_type": "markdown",
      "source": [
        "ฟังก์ชันในการค่า objective โดยปัญหานี้้หาค่าความล่าช้าที่น้อยที่สุดในการจัดลำดับของงาน"
      ],
      "metadata": {
        "id": "5rBMn-KLUPUK"
      }
    },
    {
      "cell_type": "code",
      "source": [
        "# find objective\n",
        "def FindObj(p):\n",
        "    tmp = z.copy()[p]\n",
        "    #tmp = x.copy()[p]\n",
        "    sequence = []\n",
        "    for i in range(0,nProblem):\n",
        "        ind = np.unravel_index(np.argmax(tmp, axis=None), tmp.shape)\n",
        "        sequence.append(ind)\n",
        "        tmp[ind] = -1\n",
        "\n",
        "    available_mc = np.ones(num_machine)\n",
        "    mc_running = np.full((num_machine,), -1)\n",
        "    time_mc =  np.zeros(num_machine)\n",
        "    job_done = np.zeros(nProblem)\n",
        "    date = 0\n",
        "    s = 0\n",
        "    job = sequence[s][0]\n",
        "    obj_value = 0\n",
        "    while True:\n",
        "      date += 1\n",
        "      for i in range(0,len(available_mc)):\n",
        "          if available_mc[i] == 1:\n",
        "              time_mc[i] += data[i+1][job]\n",
        "              available_mc[i] = 0\n",
        "              mc_running[i] = job\n",
        "              s += 1\n",
        "              if s < nProblem:\n",
        "                  job = sequence[s][0]\n",
        "\n",
        "      for i in range(0,len(time_mc)):\n",
        "          if date >= time_mc[i]:\n",
        "              available_mc[i] = 1\n",
        "              obj_value += max(0,(time_mc[i] - data.due_date[mc_running[i]]))\n",
        "              job_done[mc_running[i]] = 1\n",
        "              mc_running[i] = -1\n",
        "\n",
        "      if sum(job_done) == nProblem:\n",
        "          break\n",
        "    Obj[p] = obj_value"
      ],
      "metadata": {
        "id": "7-Ury3k_9YMB"
      },
      "execution_count": null,
      "outputs": []
    },
    {
      "cell_type": "markdown",
      "source": [
        "ฟังก์ชันในการแสดงผลลัพธ์ลำดับงาน โดยใช้ค่า GBest\n",
        "\n"
      ],
      "metadata": {
        "id": "_XTfd-p8Ur-U"
      }
    },
    {
      "cell_type": "code",
      "source": [
        "def showResult():\n",
        "    tmp = GBest.copy()\n",
        "    sequence = []\n",
        "    for i in range(0,nProblem):\n",
        "        ind = np.unravel_index(np.argmax(tmp, axis=None), tmp.shape)\n",
        "        sequence.append(ind[0]+1)\n",
        "        tmp[ind] = -1\n",
        "    print(\"Sequence is\",sequence)\n",
        "    print(f\"Total Tardiness is {ObjGBest:.2f}\")"
      ],
      "metadata": {
        "id": "hb9n6vEOAQBO"
      },
      "execution_count": null,
      "outputs": []
    },
    {
      "cell_type": "markdown",
      "source": [
        "ฟังก์ชันในการประเมิน โดยหาค่าobjective ของทุก particle"
      ],
      "metadata": {
        "id": "Y-kjM9P1U8NJ"
      }
    },
    {
      "cell_type": "code",
      "source": [
        "#evaluate\n",
        "def evaluation():\n",
        "    for p in range(0,nPartical):\n",
        "        FindObj(p)\n"
      ],
      "metadata": {
        "id": "W_ahMZmV9bdz"
      },
      "execution_count": null,
      "outputs": []
    },
    {
      "cell_type": "markdown",
      "source": [
        "ฟังก์ชันในการหา PBest โดยถ้าได้ค่าPBestที่น้อยกว่าPBestปัจจุบันจะเปลี่ยนเป็นPBestที่น้อยกว่า"
      ],
      "metadata": {
        "id": "o-t-F4G6VGfY"
      }
    },
    {
      "cell_type": "code",
      "source": [
        "def find_pbest():\n",
        "    global z\n",
        "    for p in range(0,nPartical):\n",
        "        if ObjPBest[p] > Obj[p]:\n",
        "            ObjPBest[p] = Obj[p]\n",
        "            PBest[p] = z[p]"
      ],
      "metadata": {
        "id": "Y47NkoPCAYgp"
      },
      "execution_count": null,
      "outputs": []
    },
    {
      "cell_type": "markdown",
      "source": [
        "ฟังก์ชันในการหา GBest โดยถ้าได้ค่าGBestที่น้อยกว่าGBestปัจจุบันจะเปลี่ยนเป็นGBestที่น้อยกว่า"
      ],
      "metadata": {
        "id": "BbXpR5NWVe_C"
      }
    },
    {
      "cell_type": "code",
      "source": [
        "def find_gbest():\n",
        "    global ObjGBest , GBest\n",
        "    for p in range(0,nPartical):\n",
        "        if ObjGBest > ObjPBest[p]:\n",
        "            ObjGBest = ObjPBest[p]\n",
        "            GBest = PBest[p]"
      ],
      "metadata": {
        "id": "U9YgScTPOFOC"
      },
      "execution_count": null,
      "outputs": []
    },
    {
      "cell_type": "markdown",
      "source": [
        "ฟังก์ชันในการหาอัพเดตค่า x , v โดยค่า z คือค่าxที่บวกกับ due_date vector"
      ],
      "metadata": {
        "id": "zIEy8XRVVj_v"
      }
    },
    {
      "cell_type": "code",
      "source": [
        "def update_position():\n",
        "    global w ,n1,n2 , x , v , z\n",
        "    r1 = rd.random()\n",
        "    r2 = rd.random()\n",
        "\n",
        "    #update velocity\n",
        "    v = w*v + n1*r1*(PBest - x) + n2*r2*(GBest - x)\n",
        "    #update position\n",
        "    x = x + v\n",
        "    #update z\n",
        "    z = x.copy() + D"
      ],
      "metadata": {
        "id": "QT_eH3msbi3n"
      },
      "execution_count": null,
      "outputs": []
    },
    {
      "cell_type": "code",
      "source": [
        "round_iteration = []\n",
        "value = []"
      ],
      "metadata": {
        "id": "J5qgGRqaVEvo"
      },
      "execution_count": null,
      "outputs": []
    },
    {
      "cell_type": "code",
      "source": [
        "#main\n",
        "for i in range(0,iteration):\n",
        "    evaluation()\n",
        "    find_pbest()\n",
        "    find_gbest()\n",
        "    update_position()\n",
        "\n",
        "    #เก็บค่ารอบiteration กับ GBest เพื่อใช้ในการplot กราฟความสัมพันธ์\n",
        "    round_iteration.append(i+1)\n",
        "    value.append(ObjGBest)\n",
        "\n",
        "#show result\n",
        "showResult()"
      ],
      "metadata": {
        "colab": {
          "base_uri": "https://localhost:8080/"
        },
        "id": "LhmSHExREhkK",
        "outputId": "684f0313-e8d4-400c-b895-f3f1ad2dff13"
      },
      "execution_count": null,
      "outputs": [
        {
          "output_type": "stream",
          "name": "stdout",
          "text": [
            "Sequence is [19, 3, 20, 11, 16, 6, 10, 2, 17, 9, 14, 4, 13, 18, 8, 5, 15, 7, 12, 1]\n",
            "Total Tardiness is 139.00\n"
          ]
        }
      ]
    },
    {
      "cell_type": "code",
      "source": [
        "print(value)\n",
        "print(round_iteration)"
      ],
      "metadata": {
        "colab": {
          "base_uri": "https://localhost:8080/"
        },
        "id": "iNO6258hWVGb",
        "outputId": "4e06c254-1d84-4377-e3cd-2830459a8462"
      },
      "execution_count": null,
      "outputs": [
        {
          "output_type": "stream",
          "name": "stdout",
          "text": [
            "[276.0, 255.0, 232.0, 232.0, 216.0, 212.0, 193.0, 145.0, 139.0, 139.0, 139.0, 139.0, 139.0, 139.0, 139.0, 139.0, 139.0, 139.0, 139.0, 139.0]\n",
            "[1, 2, 3, 4, 5, 6, 7, 8, 9, 10, 11, 12, 13, 14, 15, 16, 17, 18, 19, 20]\n"
          ]
        }
      ]
    },
    {
      "cell_type": "markdown",
      "source": [
        "กราฟความสัมพันธ์ระหว่าง iteration กับ Tardiness"
      ],
      "metadata": {
        "id": "97DlX6VzWU27"
      }
    },
    {
      "cell_type": "code",
      "source": [
        "plt.title('Result')\n",
        "plt.xlabel('iteration')\n",
        "plt.ylabel('Tardiness')\n",
        "plt.plot(round_iteration,value)\n",
        "plt.show()"
      ],
      "metadata": {
        "colab": {
          "base_uri": "https://localhost:8080/",
          "height": 295
        },
        "id": "mxj4t-MdVhjX",
        "outputId": "8ec14c22-75d5-47cf-b28b-67ade5b0401e"
      },
      "execution_count": null,
      "outputs": [
        {
          "output_type": "display_data",
          "data": {
            "text/plain": [
              "<Figure size 432x288 with 1 Axes>"
            ],
            "image/png": "[encoded data removed]"
          },
          "metadata": {
            "needs_background": "light"
          }
        }
      ]
    }
  ]
}